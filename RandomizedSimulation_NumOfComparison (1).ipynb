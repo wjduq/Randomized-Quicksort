{
  "cells": [
    {
      "cell_type": "code",
      "execution_count": null,
      "metadata": {
        "id": "CGa3Re35UYg9"
      },
      "outputs": [],
      "source": [
        "def partition(A, low, high):\n",
        "    x = A[high]\n",
        "    i = low - 1\n",
        "    count = 0\n",
        "    for j in range(low, high):\n",
        "        count += 1\n",
        "        if A[j] <= x:\n",
        "            i = i + 1\n",
        "            y = A[i]\n",
        "            A[i] = A[j]\n",
        "            A[j] = y\n",
        "    z = A[i + 1]\n",
        "    A[i + 1] = A[high]\n",
        "    A[high] = z\n",
        "    return i + 1, count"
      ]
    },
    {
      "cell_type": "code",
      "execution_count": null,
      "metadata": {
        "id": "yOeMv_Q2UdaH"
      },
      "outputs": [],
      "source": [
        "def quicksort(A, low, high):\n",
        "    ans1 = 0\n",
        "    if low < high:\n",
        "        q, count = partition(A, low, high)\n",
        "        one = quicksort(A, low, q - 1)\n",
        "        two = quicksort(A, q + 1, high)\n",
        "        ans1 += one + two + count\n",
        "    return ans1\n",
        "        "
      ]
    },
    {
      "cell_type": "code",
      "source": [
        "a = quicksort([5,4,3,2,1], 0, 4)\n",
        "print(a)"
      ],
      "metadata": {
        "colab": {
          "base_uri": "https://localhost:8080/"
        },
        "id": "MRzylAGH7Xzr",
        "outputId": "65506b9b-1792-4f25-d259-329605cddad8"
      },
      "execution_count": null,
      "outputs": [
        {
          "output_type": "stream",
          "name": "stdout",
          "text": [
            "10\n"
          ]
        }
      ]
    },
    {
      "cell_type": "code",
      "execution_count": null,
      "metadata": {
        "id": "4IC4gjuhP6l1"
      },
      "outputs": [],
      "source": [
        "import random\n",
        "import time\n",
        "import copy\n",
        "import matplotlib.pyplot as plt\n",
        "\n",
        "\n",
        "def RandomQuicksort(arr, start, stop):\n",
        "    ans = 0\n",
        "    if(start < stop):\n",
        "        pivotindex, count = partitionrand(arr, start, stop)\n",
        "        a = RandomQuicksort(arr, start, pivotindex-1)\n",
        "        b = RandomQuicksort(arr, pivotindex + 1, stop)\n",
        "        ans += a+b+count\n",
        "    \n",
        "    return ans\n",
        "    \n",
        "def partitionrand(arr, start, stop):\n",
        "    randpivot = random.randrange(start, stop)\n",
        "\n",
        "    arr[start], arr[randpivot] = arr[randpivot], arr[start]\n",
        "    return partition2(arr, start, stop)\n",
        "\n",
        "\n",
        "def partition2(arr, start, stop):\n",
        "    pivot = start\n",
        "\n",
        "    i = start + 1\n",
        "    count = 0\n",
        "\n",
        "    for j in range(start + 1, stop + 1):\n",
        "        count += 1\n",
        "        if arr[j] <= arr[pivot]:\n",
        "            arr[i], arr[j] = arr[j], arr[i]\n",
        "            i = i + 1\n",
        "    arr[pivot], arr[i - 1] = arr[i - 1], arr[pivot]\n",
        "    pivot = i - 1\n",
        "    return pivot, count\n",
        "\n",
        "\n",
        "# arr = [random.random()*1000 for i in range(1000)]\n",
        "# d = {}\n",
        "# for i in range(0, 100, 1):\n",
        "#     d[i/1000] = 0\n",
        "# for i in range(10000):\n",
        "#     temp = copy.deepcopy(arr)\n",
        "#     start = time.time()\n",
        "#     quicksort(temp, 0, 1000-1)\n",
        "#     end = time.time()\n",
        "#     for j in d:\n",
        "#         if end-start >= j and end-start < j + 0.001:\n",
        "#             d[j] += 1\n",
        "#             break\n",
        "# x = list(d.keys())\n",
        "# y = list(d.values())\n",
        "# plt.plot(x, y)\n",
        "# plt.show()"
      ]
    },
    {
      "cell_type": "code",
      "source": [
        "a = RandomQuicksort([5,4,3,2,1], 0, 4)\n",
        "print(a)"
      ],
      "metadata": {
        "colab": {
          "base_uri": "https://localhost:8080/"
        },
        "id": "siRPASkW9aYD",
        "outputId": "5b336976-3225-4a3a-ef51-eddc2e4cdbf9"
      },
      "execution_count": null,
      "outputs": [
        {
          "output_type": "stream",
          "name": "stdout",
          "text": [
            "7\n"
          ]
        }
      ]
    },
    {
      "cell_type": "code",
      "execution_count": null,
      "metadata": {
        "colab": {
          "base_uri": "https://localhost:8080/"
        },
        "id": "yKwU4jyoRmOr",
        "outputId": "23c2d057-32db-4cb6-d76e-b08574cc998b"
      },
      "outputs": [
        {
          "output_type": "stream",
          "name": "stdout",
          "text": [
            "477\n",
            "11766\n",
            "10256\n"
          ]
        }
      ],
      "source": [
        "randomized_mean = []\n",
        "quicksort_mean = []\n",
        "quicksort_count = 0\n",
        "random_count = 0\n",
        "\n",
        "randomized_temp = []\n",
        "quicksort_temp = []\n",
        "\n",
        "arr = [random.random()*1000 for k in range(1000)]\n",
        "\n",
        "count=0\n",
        "\n",
        "for l in range (len(arr)):\n",
        "    if arr[l-1]<arr[l]:\n",
        "        count = count + 1\n",
        "\n",
        "print(count)\n",
        "\n",
        "arr1 = copy.deepcopy(arr)\n",
        "start1 = time.time()\n",
        "quicksort_count = quicksort(arr1, 0, 999)\n",
        "print(quicksort_count)\n",
        "quicksort_temp.append(time.time() - start1)\n",
        "\n",
        "arr2 = copy.deepcopy(arr)\n",
        "start2 = time.time()\n",
        "random_count = RandomQuicksort(arr2, 0, 999)\n",
        "print(random_count)\n",
        "#print(arr2)\n",
        "randomized_temp.append(time.time() - start2)\n",
        "\n",
        "\n",
        "\n",
        "randomized_mean.append(sum(randomized_temp)/len(randomized_temp))\n",
        "quicksort_mean.append(sum(quicksort_temp)/len(quicksort_temp))\n",
        "\n"
      ]
    },
    {
      "cell_type": "code",
      "execution_count": null,
      "metadata": {
        "colab": {
          "base_uri": "https://localhost:8080/"
        },
        "id": "AN8sRwp92Gom",
        "outputId": "a7d0e79b-8a90-49b3-cdfb-e667929bb109"
      },
      "outputs": [
        {
          "output_type": "stream",
          "name": "stdout",
          "text": [
            "0\n",
            "1\n",
            "2\n",
            "3\n",
            "4\n",
            "5\n",
            "6\n",
            "7\n",
            "8\n",
            "9\n",
            "10\n",
            "11\n",
            "12\n",
            "13\n",
            "14\n",
            "15\n",
            "16\n",
            "17\n",
            "18\n",
            "19\n",
            "20\n",
            "21\n",
            "22\n",
            "23\n",
            "24\n",
            "25\n",
            "26\n",
            "27\n",
            "28\n",
            "29\n",
            "30\n",
            "31\n",
            "32\n",
            "33\n",
            "34\n",
            "35\n",
            "36\n",
            "37\n",
            "38\n",
            "39\n",
            "40\n",
            "41\n",
            "42\n",
            "43\n",
            "44\n",
            "45\n",
            "46\n",
            "47\n",
            "48\n",
            "49\n"
          ]
        }
      ],
      "source": [
        "randomized_mean = []\n",
        "quicksort_mean = []\n",
        "for i in range(50):\n",
        "    print(i)\n",
        "    randomized_temp = []\n",
        "    quicksort_temp = []\n",
        "\n",
        "    for j in range(10000):\n",
        "        arr = [random.random()*1000 for k in range(1000)]\n",
        "\n",
        "        arr1 = copy.deepcopy(arr)\n",
        "        a = quicksort(arr1, 0, 999)\n",
        "        quicksort_temp.append(a)\n",
        "\n",
        "        arr2 = copy.deepcopy(arr)\n",
        "        b = RandomQuicksort(arr2, 0, 999)\n",
        "        randomized_temp.append(b)\n",
        "\n",
        "    randomized_mean.append(sum(randomized_temp)/len(randomized_temp))\n",
        "    quicksort_mean.append(sum(quicksort_temp)/len(quicksort_temp))"
      ]
    },
    {
      "cell_type": "code",
      "execution_count": null,
      "metadata": {
        "colab": {
          "base_uri": "https://localhost:8080/"
        },
        "id": "ZnHNJvIH2ILv",
        "outputId": "fc229219-4df2-4735-925c-b9d930d85cf6"
      },
      "outputs": [
        {
          "output_type": "stream",
          "name": "stdout",
          "text": [
            "[10994.4363, 10979.9175, 10985.3656, 10982.4081, 11001.3425, 10981.858, 10983.699, 10978.8063, 10984.1245, 10986.1901, 10969.1604, 10982.326, 10974.2385, 10984.1276, 10983.8629, 10975.2843, 10994.3774, 10981.6193, 10982.1227, 10987.673, 10979.9686, 10991.6353, 10986.2547, 10990.4388, 10975.4714, 10975.6412, 10973.9549, 10983.8238, 10981.209, 10972.9546, 10983.6078, 10991.2849, 10983.4032, 10984.4909, 10979.5978, 10981.3612, 10992.9146, 10994.6985, 10987.4417, 10977.7806, 10980.4354, 10981.041, 10994.5727, 10984.0256, 10984.2909, 10984.5798, 10977.8693, 10980.4334, 10996.0885, 10989.8301]\n"
          ]
        }
      ],
      "source": [
        "print(quicksort_mean)"
      ]
    },
    {
      "cell_type": "code",
      "execution_count": null,
      "metadata": {
        "id": "-Ym-fY8is9tf",
        "outputId": "97cdfd1e-d857-4f49-9a18-7a2c7ee58bf8",
        "colab": {
          "base_uri": "https://localhost:8080/"
        }
      },
      "outputs": [
        {
          "output_type": "stream",
          "name": "stdout",
          "text": [
            "[10988.1906, 10990.6534, 10985.1694, 10989.8393, 10992.4831, 10995.579, 10996.0365, 10994.2633, 10983.4232, 10991.2095, 10985.3999, 10993.3711, 10982.4349, 10985.1635, 10990.9854, 10989.1656, 10978.7883, 10987.372, 10990.445, 10974.4955, 10991.6606, 10992.3276, 10989.1786, 10986.2147, 10991.0589, 10985.4502, 10984.0822, 10994.4651, 10989.0548, 10983.6187, 10981.2109, 10993.3724, 10985.4755, 10976.3184, 10995.5212, 10984.344, 10993.2645, 10980.9346, 10993.4263, 10974.0276, 10992.3892, 10982.3066, 10991.5176, 10996.8475, 10979.3701, 10976.3219, 10979.4114, 10979.1454, 10991.3365, 10993.484]\n"
          ]
        }
      ],
      "source": [
        "print(randomized_mean)"
      ]
    },
    {
      "cell_type": "code",
      "execution_count": null,
      "metadata": {
        "id": "VxQdxMXMs9tf"
      },
      "outputs": [],
      "source": [
        ""
      ]
    }
  ],
  "metadata": {
    "colab": {
      "collapsed_sections": [],
      "name": "RandomizedSimulation_NumOfComparison.ipynb",
      "provenance": []
    },
    "kernelspec": {
      "display_name": "Python 3",
      "language": "python",
      "name": "python3"
    },
    "language_info": {
      "codemirror_mode": {
        "name": "ipython",
        "version": 3
      },
      "file_extension": ".py",
      "mimetype": "text/x-python",
      "name": "python",
      "nbconvert_exporter": "python",
      "pygments_lexer": "ipython3",
      "version": "3.7.6"
    }
  },
  "nbformat": 4,
  "nbformat_minor": 0
}