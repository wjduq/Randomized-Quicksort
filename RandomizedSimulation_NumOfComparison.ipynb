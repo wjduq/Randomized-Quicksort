{
  "cells": [
    {
      "cell_type": "code",
      "execution_count": null,
      "metadata": {
        "id": "CGa3Re35UYg9"
      },
      "outputs": [],
      "source": [
        "def partition(A, low, high):\n",
        "    x = A[high]\n",
        "    i = low - 1\n",
        "    \n",
        "    for j in range(low, high):\n",
        "        if A[j] <= x:\n",
        "            i = i + 1\n",
        "            y = A[i]\n",
        "            A[i] = A[j]\n",
        "            A[j] = y\n",
        "    z = A[i + 1]\n",
        "    A[i + 1] = A[high]\n",
        "    A[high] = z\n",
        "    \n",
        "    return i + 1"
      ]
    },
    {
      "cell_type": "code",
      "execution_count": null,
      "metadata": {
        "id": "yOeMv_Q2UdaH"
      },
      "outputs": [],
      "source": [
        "def quicksort(A, low, high):\n",
        "    if low < high:\n",
        "        q = partition(A, low, high)\n",
        "        quicksort(A, low, q - 1)\n",
        "        quicksort(A, q + 1, high)"
      ]
    },
    {
      "cell_type": "code",
      "execution_count": null,
      "metadata": {
        "id": "4IC4gjuhP6l1"
      },
      "outputs": [],
      "source": [
        "import random\n",
        "import time\n",
        "import copy\n",
        "import matplotlib.pyplot as plt\n",
        "\n",
        "\n",
        "def RandomQuicksort(arr, start, stop):\n",
        "    if(start < stop):\n",
        "        pivotindex = partitionrand(arr, start, stop)\n",
        "        RandomQuicksort(arr, start, pivotindex-1)\n",
        "        RandomQuicksort(arr, pivotindex + 1, stop)\n",
        "\n",
        "\n",
        "def partitionrand(arr, start, stop):\n",
        "    randpivot = random.randrange(start, stop)\n",
        "\n",
        "    arr[start], arr[randpivot] = arr[randpivot], arr[start]\n",
        "    return partition2(arr, start, stop)\n",
        "\n",
        "\n",
        "def partition2(arr, start, stop):\n",
        "    pivot = start\n",
        "\n",
        "    i = start + 1\n",
        "\n",
        "    for j in range(start + 1, stop + 1):\n",
        "        if arr[j] <= arr[pivot]:\n",
        "            arr[i], arr[j] = arr[j], arr[i]\n",
        "            i = i + 1\n",
        "    arr[pivot], arr[i - 1] = arr[i - 1], arr[pivot]\n",
        "    pivot = i - 1\n",
        "    return (pivot)\n",
        "\n",
        "\n",
        "# arr = [random.random()*1000 for i in range(1000)]\n",
        "# d = {}\n",
        "# for i in range(0, 100, 1):\n",
        "#     d[i/1000] = 0\n",
        "# for i in range(10000):\n",
        "#     temp = copy.deepcopy(arr)\n",
        "#     start = time.time()\n",
        "#     quicksort(temp, 0, 1000-1)\n",
        "#     end = time.time()\n",
        "#     for j in d:\n",
        "#         if end-start >= j and end-start < j + 0.001:\n",
        "#             d[j] += 1\n",
        "#             break\n",
        "# x = list(d.keys())\n",
        "# y = list(d.values())\n",
        "# plt.plot(x, y)\n",
        "# plt.show()"
      ]
    },
    {
      "cell_type": "code",
      "execution_count": null,
      "metadata": {
        "colab": {
          "base_uri": "https://localhost:8080/"
        },
        "id": "KPnewQvvVi6V",
        "outputId": "27aa7468-e63e-418a-bcb5-3bbbb0dcac12"
      },
      "outputs": [
        {
          "name": "stdout",
          "output_type": "stream",
          "text": [
            "0.00011420249938964844\n",
            "8.177757263183594e-05\n"
          ]
        }
      ],
      "source": [
        "arr1 = [3,4,5,2,1]\n",
        "arr2 = [3,4,5,2,1]\n",
        "\n",
        "start1 = time.time()\n",
        "RandomQuicksort(arr1, 0, 4)\n",
        "print(time.time() - start1)\n",
        "\n",
        "start2 = time.time()\n",
        "quicksort(arr2, 0, 4)\n",
        "print(time.time() - start2)"
      ]
    },
    {
      "cell_type": "code",
      "execution_count": null,
      "metadata": {
        "colab": {
          "background_save": true,
          "base_uri": "https://localhost:8080/"
        },
        "id": "yKwU4jyoRmOr",
        "outputId": "979636a7-531a-41ee-b3b1-6c61c81c3543"
      },
      "outputs": [
        {
          "name": "stdout",
          "output_type": "stream",
          "text": [
            "0\n",
            "1\n",
            "2\n",
            "3\n",
            "4\n",
            "5\n",
            "6\n",
            "7\n",
            "8\n",
            "9\n",
            "10\n",
            "11\n",
            "12\n",
            "13\n",
            "14\n",
            "15\n",
            "16\n",
            "17\n",
            "18\n",
            "19\n",
            "20\n",
            "21\n",
            "22\n",
            "23\n",
            "24\n",
            "25\n",
            "26\n",
            "27\n",
            "28\n",
            "29\n",
            "30\n",
            "31\n",
            "32\n",
            "33\n",
            "34\n",
            "35\n",
            "36\n",
            "37\n",
            "38\n",
            "39\n",
            "40\n",
            "41\n",
            "42\n",
            "43\n",
            "44\n",
            "45\n",
            "46\n",
            "47\n",
            "48\n",
            "49\n"
          ]
        }
      ],
      "source": [
        "randomized_mean = []\n",
        "quicksort_mean = []\n",
        "for i in range(50):\n",
        "    print(i)\n",
        "    randomized_temp = []\n",
        "    quicksort_temp = []\n",
        "\n",
        "    for j in range(10000):\n",
        "        arr = [random.random()*1000 for k in range(1000)]\n",
        "\n",
        "        arr1 = copy.deepcopy(arr)\n",
        "        start1 = time.time()\n",
        "        quicksort(arr1, 0, 999)\n",
        "        quicksort_temp.append(time.time() - start1)\n",
        "\n",
        "        arr2 = copy.deepcopy(arr)\n",
        "        start2 = time.time()\n",
        "        RandomQuicksort(arr2, 0, 999)\n",
        "        randomized_temp.append(time.time() - start2)\n",
        "\n",
        "    randomized_mean.append(sum(randomized_temp)/len(randomized_temp))\n",
        "    quicksort_mean.append(sum(quicksort_temp)/len(quicksort_temp))\n"
      ]
    },
    {
      "cell_type": "code",
      "execution_count": null,
      "metadata": {
        "colab": {
          "base_uri": "https://localhost:8080/"
        },
        "id": "AN8sRwp92Gom",
        "outputId": "fb4fc8ce-cd6b-4f17-cb67-1aaaf4287eab"
      },
      "outputs": [
        {
          "output_type": "stream",
          "name": "stdout",
          "text": [
            "[0.0035955212354660034, 0.003644111466407776, 0.0036031537055969238, 0.0036017932891845702, 0.003629448390007019, 0.0035956106662750243, 0.003613465166091919, 0.0035983106136322023, 0.0036053985357284548, 0.003563092303276062, 0.003541414546966553, 0.0035937429666519165, 0.0035470846891403197, 0.0035564308881759644, 0.0035451701402664185, 0.0035422812461853026, 0.003545610499382019, 0.0035603241205215456, 0.00355308039188385, 0.00356002357006073, 0.0035495354652404785, 0.003631833028793335, 0.003630099058151245, 0.0036237255096435547, 0.0036136436223983765, 0.003608638858795166, 0.0036073439359664916, 0.003573554253578186, 0.0035848395347595216, 0.003559590983390808, 0.003586432099342346, 0.0035765762090682984, 0.0035781238555908203, 0.0035639310359954833, 0.0035756395578384398, 0.003564955759048462, 0.0035641698837280272, 0.0035605189323425295, 0.003573571419715881, 0.0035858389377593993, 0.0035429771661758423, 0.0035407508850097656, 0.003541663599014282, 0.0035408928394317627, 0.0035620041370391844, 0.0035547629117965696, 0.003550573539733887, 0.003556041741371155, 0.0035514482259750364, 0.00356074321269989]\n"
          ]
        }
      ],
      "source": [
        "print(randomized_mean)"
      ]
    },
    {
      "cell_type": "code",
      "execution_count": null,
      "metadata": {
        "colab": {
          "base_uri": "https://localhost:8080/"
        },
        "id": "ZnHNJvIH2ILv",
        "outputId": "766ed527-ae9d-4429-d657-ee697c5eab3d"
      },
      "outputs": [
        {
          "output_type": "stream",
          "name": "stdout",
          "text": [
            "[0.0023271148443222045, 0.002348461842536926, 0.0023289534330368043, 0.0023288755178451537, 0.0023467182636260986, 0.0023257206201553345, 0.0023309770107269286, 0.002325799584388733, 0.002323113179206848, 0.002304920506477356, 0.002286128258705139, 0.002324091625213623, 0.0022920902729034426, 0.0022991166591644287, 0.002296081233024597, 0.002289184522628784, 0.002290819478034973, 0.0022971465826034545, 0.002298404049873352, 0.0023004583358764647, 0.002295349359512329, 0.0023437040328979494, 0.0023479950428009033, 0.002335273289680481, 0.0023309011697769163, 0.002329655933380127, 0.0023291985988616944, 0.0023077583312988282, 0.002315977215766907, 0.002299998950958252, 0.002316280722618103, 0.0023102864265441897, 0.002313520359992981, 0.0023030996084213258, 0.0023087151288986208, 0.0023017654180526735, 0.0023014116764068604, 0.0022999031782150268, 0.0023072966814041136, 0.0023162100315093992, 0.002293527054786682, 0.0022901007175445557, 0.002292685651779175, 0.002290948748588562, 0.002302743911743164, 0.0022973116159439085, 0.0022972049474716187, 0.0022964478731155396, 0.002294720196723938, 0.002299821925163269]\n"
          ]
        }
      ],
      "source": [
        "print(quicksort_mean)"
      ]
    },
    {
      "cell_type": "code",
      "execution_count": null,
      "metadata": {
        "id": "9oyLy3DECat8"
      },
      "outputs": [],
      "source": [
        ""
      ]
    }
  ],
  "metadata": {
    "colab": {
      "collapsed_sections": [],
      "name": "RandomizedSimulation_NumOfComparison.ipynb",
      "provenance": []
    },
    "kernelspec": {
      "display_name": "Python 3",
      "language": "python",
      "name": "python3"
    },
    "language_info": {
      "codemirror_mode": {
        "name": "ipython",
        "version": 3
      },
      "file_extension": ".py",
      "mimetype": "text/x-python",
      "name": "python",
      "nbconvert_exporter": "python",
      "pygments_lexer": "ipython3",
      "version": "3.7.6"
    }
  },
  "nbformat": 4,
  "nbformat_minor": 0
}