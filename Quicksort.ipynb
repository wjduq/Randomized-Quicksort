{
 "cells": [
  {
   "cell_type": "code",
   "execution_count": 1,
   "id": "8d3a0dc9",
   "metadata": {},
   "outputs": [],
   "source": [
    "def partition(A, low, high):\n",
    "    x = A[high]\n",
    "    i = low - 1\n",
    "    \n",
    "    for j in range(low, high):\n",
    "        if A[j] <= x:\n",
    "            i = i + 1\n",
    "            y = A[i]\n",
    "            A[i] = A[j]\n",
    "            A[j] = y\n",
    "    z = A[i + 1]\n",
    "    A[i + 1] = A[high]\n",
    "    A[high] = z\n",
    "    \n",
    "    return i + 1"
   ]
  },
  {
   "cell_type": "code",
   "execution_count": 5,
   "id": "984d8149",
   "metadata": {},
   "outputs": [],
   "source": [
    "def quicksort(A, low, high):\n",
    "    if low < high:\n",
    "        q = partition(A, low, high)\n",
    "        quicksort(A, low, q - 1)\n",
    "        quicksort(A, q + 1, high)"
   ]
  },
  {
   "cell_type": "code",
   "execution_count": 6,
   "id": "ced24c6b",
   "metadata": {},
   "outputs": [],
   "source": [
    "testList = [5,4,6,8,2,4,9]"
   ]
  },
  {
   "cell_type": "code",
   "execution_count": 7,
   "id": "df4ec26e",
   "metadata": {},
   "outputs": [],
   "source": [
    "quicksort(testList, 0, 6)"
   ]
  },
  {
   "cell_type": "code",
   "execution_count": 8,
   "id": "eb54688c",
   "metadata": {},
   "outputs": [
    {
     "name": "stdout",
     "output_type": "stream",
     "text": [
      "2\n",
      "4\n",
      "4\n",
      "5\n",
      "6\n",
      "8\n",
      "9\n"
     ]
    }
   ],
   "source": [
    "for element in testList:\n",
    "    print(element)"
   ]
  }
 ],
 "metadata": {
  "kernelspec": {
   "display_name": "Python 3 (ipykernel)",
   "language": "python",
   "name": "python3"
  },
  "language_info": {
   "codemirror_mode": {
    "name": "ipython",
    "version": 3
   },
   "file_extension": ".py",
   "mimetype": "text/x-python",
   "name": "python",
   "nbconvert_exporter": "python",
   "pygments_lexer": "ipython3",
   "version": "3.9.7"
  }
 },
 "nbformat": 4,
 "nbformat_minor": 5
}
