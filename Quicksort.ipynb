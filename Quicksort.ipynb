{
 "cells": [
  {
   "cell_type": "code",
   "execution_count": 1,
   "id": "8d3a0dc9",
   "metadata": {},
   "outputs": [],
   "source": [
    "def partition(A, low, high):\n",
    "    x = A[high]\n",
    "    i = low - 1\n",
    "    \n",
    "    for j in range(low, high):\n",
    "        if A[j] <= x:\n",
    "            i = i + 1\n",
    "            y = A[i]\n",
    "            A[i] = A[j]\n",
    "            A[j] = y\n",
    "    z = A[i + 1]\n",
    "    A[i + 1] = A[high]\n",
    "    A[high] = z\n",
    "    \n",
    "    return i + 1"
   ]
  },
  {
   "cell_type": "code",
   "execution_count": 7,
   "id": "984d8149",
   "metadata": {},
   "outputs": [],
   "source": [
    "def quicksort(A, low, high):\n",
    "    print(A)\n",
    "    if low < high:\n",
    "        q = partition(A, low, high)\n",
    "        quicksort(A, low, q - 1)\n",
    "        quicksort(A, q + 1, high)"
   ]
  },
  {
   "cell_type": "code",
   "execution_count": 8,
   "id": "ced24c6b",
   "metadata": {},
   "outputs": [
    {
     "name": "stdout",
     "output_type": "stream",
     "text": [
      "[5, 3, 2, 4, 1]\n"
     ]
    }
   ],
   "source": [
    "testList = [5, 3, 2, 4, 1]\n",
    "print(testList)"
   ]
  },
  {
   "cell_type": "code",
   "execution_count": 9,
   "id": "df4ec26e",
   "metadata": {},
   "outputs": [
    {
     "name": "stdout",
     "output_type": "stream",
     "text": [
      "[5, 3, 2, 4, 1]\n",
      "[1, 3, 2, 4, 5]\n",
      "[1, 3, 2, 4, 5]\n",
      "[1, 3, 2, 4, 5]\n",
      "[1, 3, 2, 4, 5]\n",
      "[1, 2, 3, 4, 5]\n",
      "[1, 2, 3, 4, 5]\n",
      "[1, 2, 3, 4, 5]\n",
      "[1, 2, 3, 4, 5]\n"
     ]
    }
   ],
   "source": [
    "quicksort(testList, 0, 4)"
   ]
  },
  {
   "cell_type": "code",
   "execution_count": 10,
   "id": "eb54688c",
   "metadata": {},
   "outputs": [
    {
     "name": "stdout",
     "output_type": "stream",
     "text": [
      "[1, 2, 3, 4, 5]\n"
     ]
    }
   ],
   "source": [
    "print(testList)"
   ]
  }
 ],
 "metadata": {
  "kernelspec": {
   "display_name": "Python 3 (ipykernel)",
   "language": "python",
   "name": "python3"
  },
  "language_info": {
   "codemirror_mode": {
    "name": "ipython",
    "version": 3
   },
   "file_extension": ".py",
   "mimetype": "text/x-python",
   "name": "python",
   "nbconvert_exporter": "python",
   "pygments_lexer": "ipython3",
   "version": "3.9.7"
  }
 },
 "nbformat": 4,
 "nbformat_minor": 5
}
