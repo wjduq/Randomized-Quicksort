{
 "cells": [
  {
   "cell_type": "code",
   "execution_count": 1,
   "metadata": {
    "id": "CGa3Re35UYg9"
   },
   "outputs": [],
   "source": [
    "def partition(A, low, high):\n",
    "    x = A[high]\n",
    "    i = low - 1\n",
    "    \n",
    "    for j in range(low, high):\n",
    "        if A[j] <= x:\n",
    "            i = i + 1\n",
    "            y = A[i]\n",
    "            A[i] = A[j]\n",
    "            A[j] = y\n",
    "    z = A[i + 1]\n",
    "    A[i + 1] = A[high]\n",
    "    A[high] = z\n",
    "    \n",
    "    return i + 1"
   ]
  },
  {
   "cell_type": "code",
   "execution_count": 2,
   "metadata": {
    "id": "yOeMv_Q2UdaH"
   },
   "outputs": [],
   "source": [
    "def quicksort(A, low, high):\n",
    "    if low < high:\n",
    "        q = partition(A, low, high)\n",
    "        quicksort(A, low, q - 1)\n",
    "        quicksort(A, q + 1, high)"
   ]
  },
  {
   "cell_type": "code",
   "execution_count": 3,
   "metadata": {
    "id": "4IC4gjuhP6l1"
   },
   "outputs": [],
   "source": [
    "import random\n",
    "import numpy as np\n",
    "import time\n",
    "import copy\n",
    "import matplotlib.pyplot as plt\n",
    "\n",
    "\n",
    "def RandomQuicksort(arr, start, stop):\n",
    "    if(start < stop):\n",
    "        pivotindex = partitionrand(arr, start, stop)\n",
    "        RandomQuicksort(arr, start, pivotindex-1)\n",
    "        RandomQuicksort(arr, pivotindex + 1, stop)\n",
    "\n",
    "\n",
    "def partitionrand(arr, start, stop):\n",
    "    #randpivot = random.randrange(start, stop)\n",
    "    randpivot = np.random.rand(start, stop)\n",
    "\n",
    "    arr[start], arr[randpivot] = arr[randpivot], arr[start]\n",
    "    return partition2(arr, start, stop)\n",
    "\n",
    "\n",
    "def partition2(arr, start, stop):\n",
    "    pivot = start\n",
    "\n",
    "    i = start + 1\n",
    "\n",
    "    for j in range(start + 1, stop + 1):\n",
    "        if arr[j] <= arr[pivot]:\n",
    "            arr[i], arr[j] = arr[j], arr[i]\n",
    "            i = i + 1\n",
    "    arr[pivot], arr[i - 1] = arr[i - 1], arr[pivot]\n",
    "    pivot = i - 1\n",
    "    return (pivot)\n",
    "\n",
    "\n",
    "# arr = [random.random()*1000 for i in range(1000)]\n",
    "# d = {}\n",
    "# for i in range(0, 100, 1):\n",
    "#     d[i/1000] = 0\n",
    "# for i in range(10000):\n",
    "#     temp = copy.deepcopy(arr)\n",
    "#     start = time.time()\n",
    "#     quicksort(temp, 0, 1000-1)\n",
    "#     end = time.time()\n",
    "#     for j in d:\n",
    "#         if end-start >= j and end-start < j + 0.001:\n",
    "#             d[j] += 1\n",
    "#             break\n",
    "# x = list(d.keys())\n",
    "# y = list(d.values())\n",
    "# plt.plot(x, y)\n",
    "# plt.show()"
   ]
  },
  {
   "cell_type": "code",
   "execution_count": 4,
   "metadata": {
    "colab": {
     "base_uri": "https://localhost:8080/"
    },
    "id": "KPnewQvvVi6V",
    "outputId": "163d6337-6b36-49f3-95c9-3adb42410a49"
   },
   "outputs": [
    {
     "name": "stdout",
     "output_type": "stream",
     "text": [
      "0.0\n",
      "0.0\n"
     ]
    }
   ],
   "source": [
    "arr1 = [3,4,5,2,1]\n",
    "arr2 = [3,4,5,2,1]\n",
    "\n",
    "start1 = time.time()\n",
    "RandomQuicksort(arr1, 0, 4)\n",
    "print(time.time() - start1)\n",
    "\n",
    "start2 = time.time()\n",
    "quicksort(arr2, 0, 4)\n",
    "print(time.time() - start2)"
   ]
  },
  {
   "cell_type": "code",
   "execution_count": 5,
   "metadata": {
    "colab": {
     "base_uri": "https://localhost:8080/"
    },
    "id": "yKwU4jyoRmOr",
    "outputId": "2b590d63-9db5-4361-daa0-1046bfb02cff"
   },
   "outputs": [
    {
     "name": "stdout",
     "output_type": "stream",
     "text": [
      "0\n",
      "1\n",
      "2\n",
      "3\n",
      "4\n"
     ]
    }
   ],
   "source": [
    "randomized_mean = []\n",
    "quicksort_mean = []\n",
    "for i in range(5):\n",
    "    print(i)\n",
    "    randomized_temp = []\n",
    "    quicksort_temp = []\n",
    "\n",
    "    for j in range(10000):\n",
    "        arr = [random.random()*1000 for k in range(1000)]\n",
    "\n",
    "        arr1 = copy.deepcopy(arr)\n",
    "        start1 = time.time()\n",
    "        quicksort(arr1, 0, 999)\n",
    "        quicksort_temp.append(time.time() - start1)\n",
    "\n",
    "        arr2 = copy.deepcopy(arr)\n",
    "        start2 = time.time()\n",
    "        RandomQuicksort(arr2, 0, 999)\n",
    "        randomized_temp.append(time.time() - start2)\n",
    "\n",
    "    randomized_mean.append(sum(randomized_temp)/len(randomized_temp))\n",
    "    quicksort_mean.append(sum(quicksort_temp)/len(quicksort_temp))\n"
   ]
  },
  {
   "cell_type": "code",
   "execution_count": 6,
   "metadata": {
    "colab": {
     "base_uri": "https://localhost:8080/"
    },
    "id": "AN8sRwp92Gom",
    "outputId": "d56fb376-5a40-4258-debe-20a1b2b7a78d"
   },
   "outputs": [
    {
     "name": "stdout",
     "output_type": "stream",
     "text": [
      "[0.00231270227432251, 0.0023013412475585936, 0.0023071566581726074, 0.0023079254865646364, 0.002318594241142273]\n"
     ]
    }
   ],
   "source": [
    "print(randomized_mean)"
   ]
  },
  {
   "cell_type": "code",
   "execution_count": 7,
   "metadata": {
    "colab": {
     "base_uri": "https://localhost:8080/"
    },
    "id": "ZnHNJvIH2ILv",
    "outputId": "5f6c6059-ad9c-4d0b-a150-0751f3de8f11"
   },
   "outputs": [
    {
     "name": "stdout",
     "output_type": "stream",
     "text": [
      "[0.0016335196018218993, 0.0016194434642791747, 0.0016314375162124633, 0.0016330906629562379, 0.0016315352916717529]\n"
     ]
    }
   ],
   "source": [
    "print(quicksort_mean)"
   ]
  }
 ],
 "metadata": {
  "colab": {
   "collapsed_sections": [],
   "name": "RandomizedSimulation.ipynb",
   "provenance": []
  },
  "kernelspec": {
   "display_name": "Python 3 (ipykernel)",
   "language": "python",
   "name": "python3"
  },
  "language_info": {
   "codemirror_mode": {
    "name": "ipython",
    "version": 3
   },
   "file_extension": ".py",
   "mimetype": "text/x-python",
   "name": "python",
   "nbconvert_exporter": "python",
   "pygments_lexer": "ipython3",
   "version": "3.9.7"
  }
 },
 "nbformat": 4,
 "nbformat_minor": 1
}
