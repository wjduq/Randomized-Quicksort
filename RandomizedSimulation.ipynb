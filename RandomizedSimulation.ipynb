{
  "nbformat": 4,
  "nbformat_minor": 0,
  "metadata": {
    "colab": {
      "name": "RandomizedSimulation.ipynb",
      "provenance": [],
      "collapsed_sections": []
    },
    "kernelspec": {
      "name": "python3",
      "display_name": "Python 3"
    },
    "language_info": {
      "name": "python"
    }
  },
  "cells": [
    {
      "cell_type": "code",
      "source": [
        "def partition(A, low, high):\n",
        "    x = A[high]\n",
        "    i = low - 1\n",
        "    \n",
        "    for j in range(low, high):\n",
        "        if A[j] <= x:\n",
        "            i = i + 1\n",
        "            y = A[i]\n",
        "            A[i] = A[j]\n",
        "            A[j] = y\n",
        "    z = A[i + 1]\n",
        "    A[i + 1] = A[high]\n",
        "    A[high] = z\n",
        "    \n",
        "    return i + 1"
      ],
      "metadata": {
        "id": "CGa3Re35UYg9"
      },
      "execution_count": 48,
      "outputs": []
    },
    {
      "cell_type": "code",
      "source": [
        "def quicksort(A, low, high):\n",
        "    if low < high:\n",
        "        q = partition(A, low, high)\n",
        "        quicksort(A, low, q - 1)\n",
        "        quicksort(A, q + 1, high)"
      ],
      "metadata": {
        "id": "yOeMv_Q2UdaH"
      },
      "execution_count": 49,
      "outputs": []
    },
    {
      "cell_type": "code",
      "execution_count": 50,
      "metadata": {
        "id": "4IC4gjuhP6l1"
      },
      "outputs": [],
      "source": [
        "import random\n",
        "import time\n",
        "import copy\n",
        "import matplotlib.pyplot as plt\n",
        "\n",
        "\n",
        "def RandomQuicksort(arr, start, stop):\n",
        "    if(start < stop):\n",
        "        pivotindex = partitionrand(arr, start, stop)\n",
        "        RandomQuicksort(arr, start, pivotindex-1)\n",
        "        RandomQuicksort(arr, pivotindex + 1, stop)\n",
        "\n",
        "\n",
        "def partitionrand(arr, start, stop):\n",
        "    randpivot = random.randrange(start, stop)\n",
        "\n",
        "    arr[start], arr[randpivot] = arr[randpivot], arr[start]\n",
        "    return partition2(arr, start, stop)\n",
        "\n",
        "\n",
        "def partition2(arr, start, stop):\n",
        "    pivot = start\n",
        "\n",
        "    i = start + 1\n",
        "\n",
        "    for j in range(start + 1, stop + 1):\n",
        "        if arr[j] <= arr[pivot]:\n",
        "            arr[i], arr[j] = arr[j], arr[i]\n",
        "            i = i + 1\n",
        "    arr[pivot], arr[i - 1] = arr[i - 1], arr[pivot]\n",
        "    pivot = i - 1\n",
        "    return (pivot)\n",
        "\n",
        "\n",
        "# arr = [random.random()*1000 for i in range(1000)]\n",
        "# d = {}\n",
        "# for i in range(0, 100, 1):\n",
        "#     d[i/1000] = 0\n",
        "# for i in range(10000):\n",
        "#     temp = copy.deepcopy(arr)\n",
        "#     start = time.time()\n",
        "#     quicksort(temp, 0, 1000-1)\n",
        "#     end = time.time()\n",
        "#     for j in d:\n",
        "#         if end-start >= j and end-start < j + 0.001:\n",
        "#             d[j] += 1\n",
        "#             break\n",
        "# x = list(d.keys())\n",
        "# y = list(d.values())\n",
        "# plt.plot(x, y)\n",
        "# plt.show()"
      ]
    },
    {
      "cell_type": "code",
      "source": [
        "arr1 = [3,4,5,2,1]\n",
        "arr2 = [3,4,5,2,1]\n",
        "\n",
        "start1 = time.time()\n",
        "RandomQuicksort(arr1, 0, 4)\n",
        "print(time.time() - start1)\n",
        "\n",
        "start2 = time.time()\n",
        "quicksort(arr2, 0, 4)\n",
        "print(time.time() - start2)"
      ],
      "metadata": {
        "colab": {
          "base_uri": "https://localhost:8080/"
        },
        "id": "KPnewQvvVi6V",
        "outputId": "163d6337-6b36-49f3-95c9-3adb42410a49"
      },
      "execution_count": 52,
      "outputs": [
        {
          "output_type": "stream",
          "name": "stdout",
          "text": [
            "0.00014591217041015625\n",
            "0.0001246929168701172\n"
          ]
        }
      ]
    },
    {
      "cell_type": "code",
      "source": [
        "randomized_mean = []\n",
        "quicksort_mean = []\n",
        "for i in range(30):\n",
        "    print(i)\n",
        "    randomized_temp = []\n",
        "    quicksort_temp = []\n",
        "\n",
        "    for j in range(10000):\n",
        "        arr = [random.random()*1000 for k in range(1000)]\n",
        "\n",
        "        arr1 = copy.deepcopy(arr)\n",
        "        start1 = time.time()\n",
        "        quicksort(arr1, 0, 999)\n",
        "        quicksort_temp.append(time.time() - start1)\n",
        "\n",
        "        arr2 = copy.deepcopy(arr)\n",
        "        start2 = time.time()\n",
        "        RandomQuicksort(arr2, 0, 999)\n",
        "        randomized_temp.append(time.time() - start2)\n",
        "\n",
        "    randomized_mean.append(sum(randomized_temp)/len(randomized_temp))\n",
        "    quicksort_mean.append(sum(quicksort_temp)/len(quicksort_temp))\n"
      ],
      "metadata": {
        "colab": {
          "base_uri": "https://localhost:8080/"
        },
        "id": "yKwU4jyoRmOr",
        "outputId": "2b590d63-9db5-4361-daa0-1046bfb02cff"
      },
      "execution_count": 54,
      "outputs": [
        {
          "output_type": "stream",
          "name": "stdout",
          "text": [
            "0\n",
            "1\n",
            "2\n",
            "3\n",
            "4\n",
            "5\n",
            "6\n",
            "7\n",
            "8\n",
            "9\n",
            "10\n",
            "11\n",
            "12\n",
            "13\n",
            "14\n",
            "15\n",
            "16\n",
            "17\n",
            "18\n",
            "19\n",
            "20\n",
            "21\n",
            "22\n",
            "23\n",
            "24\n",
            "25\n",
            "26\n",
            "27\n",
            "28\n",
            "29\n"
          ]
        }
      ]
    },
    {
      "cell_type": "code",
      "source": [
        "print(randomized_mean)"
      ],
      "metadata": {
        "colab": {
          "base_uri": "https://localhost:8080/"
        },
        "id": "AN8sRwp92Gom",
        "outputId": "d56fb376-5a40-4258-debe-20a1b2b7a78d"
      },
      "execution_count": 55,
      "outputs": [
        {
          "output_type": "stream",
          "name": "stdout",
          "text": [
            "[0.0037919153213500974, 0.003730498671531677, 0.003738272762298584, 0.0037498003721237183, 0.003714310073852539, 0.003723004913330078, 0.0037312618970870974, 0.0037346516132354735, 0.003744258379936218, 0.0037340888977050782, 0.003751088571548462, 0.0037489099740982057, 0.003729910635948181, 0.003735074472427368, 0.0037363264560699464, 0.003731849002838135, 0.0037362815856933594, 0.003746387720108032, 0.003748671078681946, 0.003766928148269653, 0.0037255181550979615, 0.0037368008136749267, 0.0037363009691238403, 0.0037570066690444945, 0.003754155492782593, 0.0037408593893051146, 0.0037605408191680907, 0.003721022367477417, 0.0037181437730789183, 0.003729272174835205]\n"
          ]
        }
      ]
    },
    {
      "cell_type": "code",
      "source": [
        "print(quicksort_mean)"
      ],
      "metadata": {
        "colab": {
          "base_uri": "https://localhost:8080/"
        },
        "id": "ZnHNJvIH2ILv",
        "outputId": "5f6c6059-ad9c-4d0b-a150-0751f3de8f11"
      },
      "execution_count": 56,
      "outputs": [
        {
          "output_type": "stream",
          "name": "stdout",
          "text": [
            "[0.0024135305881500244, 0.0023780473232269286, 0.0023761203289031983, 0.002386420822143555, 0.002365254545211792, 0.002371022081375122, 0.0023650025367736817, 0.002374802589416504, 0.0023809070348739625, 0.002371046781539917, 0.002387547755241394, 0.002381264567375183, 0.00237381432056427, 0.0023738585472106934, 0.002374890756607056, 0.0023736051082611084, 0.002374304628372192, 0.0023833055973052977, 0.0023873131275177002, 0.002399591112136841, 0.002370854139328003, 0.002370462894439697, 0.0023763494968414307, 0.0023873697996139526, 0.0023863013982772826, 0.002376580047607422, 0.00239215407371521, 0.002362789750099182, 0.0023602646350860596, 0.0023647449016571047]\n"
          ]
        }
      ]
    }
  ]
}