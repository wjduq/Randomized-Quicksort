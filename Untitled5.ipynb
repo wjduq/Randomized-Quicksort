{
  "nbformat": 4,
  "nbformat_minor": 0,
  "metadata": {
    "colab": {
      "name": "Untitled5.ipynb",
      "provenance": [],
      "collapsed_sections": []
    },
    "kernelspec": {
      "name": "python3",
      "display_name": "Python 3"
    },
    "language_info": {
      "name": "python"
    }
  },
  "cells": [
    {
      "cell_type": "code",
      "execution_count": 19,
      "metadata": {
        "colab": {
          "base_uri": "https://localhost:8080/",
          "height": 265
        },
        "id": "4IC4gjuhP6l1",
        "outputId": "f0127753-fee6-4f60-d4d2-9c37b982a2aa"
      },
      "outputs": [
        {
          "output_type": "display_data",
          "data": {
            "text/plain": [
              "<Figure size 432x288 with 1 Axes>"
            ],
            "image/png": "[encoded data removed]"
          },
          "metadata": {
            "needs_background": "light"
          }
        }
      ],
      "source": [
        "import random\n",
        "import time\n",
        "import copy\n",
        "import matplotlib.pyplot as plt\n",
        "\n",
        "\n",
        "def quicksort(arr, start, stop):\n",
        "    if(start < stop):\n",
        "        pivotindex = partitionrand(arr, start, stop)\n",
        "        quicksort(arr, start, pivotindex-1)\n",
        "        quicksort(arr, pivotindex + 1, stop)\n",
        "\n",
        "\n",
        "def partitionrand(arr, start, stop):\n",
        "    randpivot = random.randrange(start, stop)\n",
        "\n",
        "    arr[start], arr[randpivot] = arr[randpivot], arr[start]\n",
        "    return partition(arr, start, stop)\n",
        "\n",
        "\n",
        "def partition(arr, start, stop):\n",
        "    pivot = start\n",
        "\n",
        "    i = start + 1\n",
        "\n",
        "    for j in range(start + 1, stop + 1):\n",
        "        if arr[j] <= arr[pivot]:\n",
        "            arr[i], arr[j] = arr[j], arr[i]\n",
        "            i = i + 1\n",
        "    arr[pivot], arr[i - 1] = arr[i - 1], arr[pivot]\n",
        "    pivot = i - 1\n",
        "    return (pivot)\n",
        "\n",
        "\n",
        "arr = [random.random()*1000 for i in range(10000)]\n",
        "d = {}\n",
        "for i in range(0, 100, 1):\n",
        "    d[i/1000] = 0\n",
        "for i in range(5000):\n",
        "    temp = copy.deepcopy(arr)\n",
        "    start = time.time()\n",
        "    quicksort(temp, 0, 10000-1)\n",
        "    end = time.time()\n",
        "    for j in d:\n",
        "        if end-start >= j and end-start < j + 0.001:\n",
        "            d[j] += 1\n",
        "            break\n",
        "x = list(d.keys())\n",
        "y = list(d.values())\n",
        "plt.plot(x, y)\n",
        "plt.show()"
      ]
    }
  ]
}